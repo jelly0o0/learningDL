{
 "cells": [
  {
   "cell_type": "markdown",
   "metadata": {},
   "source": [
    "# Deep Learning Notes and Resource"
   ]
  },
  {
   "cell_type": "markdown",
   "metadata": {},
   "source": [
    "This repo take notes for **Deep Learning**."
   ]
  },
  {
   "cell_type": "markdown",
   "metadata": {},
   "source": [
    "## Deep Learning Books and Papers"
   ]
  },
  {
   "cell_type": "markdown",
   "metadata": {},
   "source": [
    "- Goodfellow's [Deep Learning](http://www.deeplearningbook.org/) and [Chinese](https://github.com/exacity/deeplearningbook-chinese) translation edition.\n",
    "- Paper list of **object detection** using deep learning. [[link](https://github.com/hoya012/deep_learning_object_detection)]\n",
    "- **Face Recognition / Face Detection** and something like that algorithm. Datasets and Papers. [[link](https://github.com/polarisZhao/awesome-face)]\n",
    "- Andrew Ng's [deeplearning.ai](https://www.deeplearning.ai/) and [Chinese](https://github.com/fengdu78/deeplearning_ai_books) notes and resource. [Slide and notebook](https://github.com/stormstone/deeplearning.ai) and some material in Chinese.\n",
    "- [Deep Learning 500 Questions](https://github.com/scutan90/DeepLearning-500-questions)"
   ]
  },
  {
   "cell_type": "markdown",
   "metadata": {},
   "source": [
    "## Beginner's tutorial"
   ]
  },
  {
   "cell_type": "markdown",
   "metadata": {},
   "source": [
    "#### 1. Tensorflow"
   ]
  },
  {
   "cell_type": "markdown",
   "metadata": {},
   "source": [
    "- [Tensorflow windows wheel](https://github.com/fo40225/tensorflow-windows-wheel) contains all you need that work with tensorflow on windows.\n",
    "- [Tensorflow models](https://github.com/tensorflow/models) contains a number of different models implemented in TensorFlow.\n",
    "- [Tensorflow examples](https://github.com/aymericdamien/TensorFlow-Examples) designed for easily diving into TensorFlow, through examples."
   ]
  },
  {
   "cell_type": "markdown",
   "metadata": {},
   "source": [
    "#### 2. PyTorch"
   ]
  },
  {
   "cell_type": "markdown",
   "metadata": {},
   "source": [
    "- [PyTorch Handbook](https://github.com/zergtant/pytorch-handbook) is an opensourced Chinese book for DL beginners."
   ]
  },
  {
   "cell_type": "markdown",
   "metadata": {},
   "source": [
    "#### 3. MXNet"
   ]
  },
  {
   "cell_type": "markdown",
   "metadata": {},
   "source": [
    "- [Hands-on Deep Learning](https://zh.d2l.ai/) is an Chinese book for DL beginners."
   ]
  },
  {
   "cell_type": "markdown",
   "metadata": {},
   "source": [
    "#### 4. CV"
   ]
  },
  {
   "cell_type": "markdown",
   "metadata": {},
   "source": [
    "- Keras implementation of Faster R-CNN. [[link](https://github.com/yhenon/keras-frcnn)]\n",
    "- Pytorch implementation of Person re-identification. [[link](https://github.com/layumi/Person_reID_baseline_pytorch)]\n",
    "- Tensorflow and Keras implementation of Mask R-CNN. [[link](https://github.com/matterport/Mask_RCNN)]\n",
    "- Pytorch implementation of Faster R-CNN simple edition. [[link](https://github.com/chenyuntc/simple-faster-rcnn-pytorch)]\n",
    "- Pytorch implementation of YOLO v3 object detection algorithm. [[link](https://github.com/ayooshkathuria/pytorch-yolo-v3)]\n",
    "- Tencent Youtu Lib implementation of YOLO v2 and v3 into OneStageDet. [[link](https://github.com/TencentYoutuResearch/ObjectDetection-OneStageDet)]\n",
    "- MSRA implementation of Relation Networks for Object Detection based on MXNet. [[link](https://github.com/msracver/Relation-Networks-for-Object-Detection)]\n",
    "- TuSimple implementation of Framework for Object Detection and Instance Recognition: SimpleDet. [[link](https://github.com/TuSimple/simpledet)]"
   ]
  },
  {
   "cell_type": "markdown",
   "metadata": {},
   "source": [
    "#### 5. NLP"
   ]
  },
  {
   "cell_type": "markdown",
   "metadata": {},
   "source": [
    "- Tensorflow and Pytorch implementation a tutorial for studying NLP. [[link](https://github.com/graykode/nlp-tutorial)]\n",
    "- A curated list of resources for Chinese NLP. [[link](https://github.com/crownpku/Awesome-Chinese-NLP)]"
   ]
  },
  {
   "cell_type": "markdown",
   "metadata": {},
   "source": [
    "#### 6. Tools"
   ]
  },
  {
   "cell_type": "markdown",
   "metadata": {},
   "source": [
    "- [imgaug](https://github.com/aleju/imgaug): A python library helps you with augmenting images.\n",
    "- [LabelImg](https://github.com/tzutalin/labelImg): A graphical image annotation tool."
   ]
  }
 ],
 "metadata": {
  "kernelspec": {
   "display_name": "Python 3",
   "language": "python",
   "name": "python3"
  },
  "language_info": {
   "codemirror_mode": {
    "name": "ipython",
    "version": 3
   },
   "file_extension": ".py",
   "mimetype": "text/x-python",
   "name": "python",
   "nbconvert_exporter": "python",
   "pygments_lexer": "ipython3",
   "version": "3.6.7"
  }
 },
 "nbformat": 4,
 "nbformat_minor": 2
}
